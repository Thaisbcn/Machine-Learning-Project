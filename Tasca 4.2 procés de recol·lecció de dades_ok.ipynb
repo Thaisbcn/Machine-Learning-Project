{
 "cells": [
  {
   "cell_type": "code",
   "execution_count": 7,
   "id": "0c7d9626-e372-4e19-9f8c-ed478131e4c0",
   "metadata": {},
   "outputs": [],
   "source": [
    "import pandas as pd"
   ]
  },
  {
   "cell_type": "markdown",
   "id": "eb679ec6-c09f-458c-b027-d599e1b0d2c5",
   "metadata": {},
   "source": [
    "# Procés de Recol·lecció de Dades per al Projecte de Predicció de subscripció de Dipòsit a Termini #"
   ]
  },
  {
   "cell_type": "markdown",
   "id": "4b235ab4-8956-4ae1-a052-99511ce4d9a0",
   "metadata": {},
   "source": [
    "## 1. Fonts ##\n",
    "1. Identificació de Fonts:\n",
    "Base de dades obtinguda de la recopilació de campanyes de màrqueting telefònic.\n",
    "\n",
    "### 1.2. Descripció de les Fonts: ###\n",
    "Les dades són obtingudes del CRM bancari, on constn les dades dels clients i d'un arxiu csv enviat per una empresa de marketing externa a l'empersa."
   ]
  },
  {
   "cell_type": "markdown",
   "id": "f7267e84-b753-4c16-8c83-8eabd3bb2711",
   "metadata": {},
   "source": [
    "## 2. Mètodes de recol·lecció de dades ##\n",
    "### 2.1- Procediments i Eines: ###\n",
    "\n",
    "Les dades financeres i demogràfiques, com el saldo del compte, préstecs, hipoteques, etc., s'extreuen dels CRM del banc on mensualment s'emmagatzemen els perfils dels clients. Les dades referents a les campanyes de màrketing, ens les dóna l'empresa subcontractada. Aquesta empresa utilitza el seu propi crm. Ells ens generen un arxiu csv que ens envien mensualment.\n",
    "\n",
    "### 2.2- Freqüència de Recol·lecció: ###\n",
    "\n",
    "Les campanyes de màrqueting telefònic solen recollir-se en temps real o diàriament després de les trucades i ens les envien mensualment.\n",
    "Els informes financers, com el saldo del compte, mensualment.\n",
    "\n",
    "### 2.3- Scripts de Descàrrega: ###\n",
    "url = \"https://www.bbva.es/bank_dataset.CSV\"   \n",
    "banc = \"bank_dataset.CSV\"   \n",
    "df = pd.read_csv(banc)   \n",
    "print(df.info())   \n"
   ]
  },
  {
   "cell_type": "markdown",
   "id": "deecd592-cfe2-4d8a-92fd-557282d3a7b3",
   "metadata": {},
   "source": [
    "## 3. Format i Estructura de les Dades ##\n",
    "### 3.1- Tipus de Dades: ###"
   ]
  },
  {
   "cell_type": "markdown",
   "id": "af3f9e36-7016-4943-b127-cc0b78c6be88",
   "metadata": {},
   "source": [
    "Aquest resum mostra un DataFramede 11.162 files i 17 columnes. Tot i que totes les columnes marquen que no tenen valors nuls, el número de files és diferent, això implica que hi ha algunes dades mancants. \n",
    "Els tipus de dades inclouen dades numèriques de tipos float i enters, dades categòriques format text i algunes d'aquestes que en realitat són booleanes tot i que s'expresen en text. \n",
    "   \n",
    "    1. Columnes amb valors qualitatius o de text:\n",
    "- job (professió)\n",
    "- marital (estat civil)\n",
    "- education (educació)\n",
    "- contact (mètode de contacte)\n",
    "- month (mes)\n",
    "- poutcome (resultat de campanya prèvia)\n",
    " \n",
    "    2. Columnes amb valors quantitatius, de tipus numèric:\n",
    "- age (edat)\n",
    "- balance (saldo)\n",
    "- day (dia del mes en què es va fer el contacte)\n",
    "- duration (duració de la trucada)\n",
    "- campaign (nombre de contactes durant la campanya)\n",
    "- pdays (dies des de l'últim contacte de la campanya anterior)\n",
    "- previous (nombre de contactes previs)\n",
    "\n",
    "   3. Columnes de text amb valors que podrien ser binaris (sí/no) ,(0/1):\n",
    "\n",
    "- default (morositat: pot ser \"yes\" o \"no\")\n",
    "- housing (hipoteca: pot ser \"yes\" o \"no\")\n",
    "- loan (préstec: pot ser \"yes\" o \"no\")\n",
    "- deposit (dipòsit: pot ser \"yes\" o \"no\" → l'objectiu de classificació) . AQUESTA ÚLTIMA SERIA LA VARIABLE OBJECTIU DE L'ENTRENAMENT (Y)."
   ]
  },
  {
   "cell_type": "markdown",
   "id": "6a142fad-85c0-4dc2-a972-9e2257edee25",
   "metadata": {},
   "source": [
    "### 3.2- Format d'Emmagatzematge: ###\n",
    "\n",
    "Dades tabulars emmagatzemades en fitxer csv.\n"
   ]
  },
  {
   "cell_type": "markdown",
   "id": "8e5cb65c-88b8-4539-a4c2-32c06c977281",
   "metadata": {},
   "source": [
    "## 4. Limitacions de les dades ##"
   ]
  },
  {
   "cell_type": "markdown",
   "id": "180ebb30-4cdf-45b8-b540-b92803c3f1c5",
   "metadata": {},
   "source": [
    "4.1. Qualitat de les dades:  \n",
    "Algunes variables, com l'edat o l'educació, poden contenir valors nuls o incomplets que poden afectar la precisió del model. És necessari tractar aquests valors abans d'entrenar el model.\n",
    "Tenim:  \n",
    "dades categòriques: Estudis, professió, estat civil...  \n",
    "dades numèriques: edat, dies darrer contacte, duració de la trucada, ...  \n",
    "dades binàries: si tenen hipoteca, credit, si ja han fet algun dipòsit...  \n",
    "\n",
    "4.2. Segmentació de la mostra:  \n",
    "Hem d'estar segurs que les dades utilitzades representen tots els clients en les proporcions adequades.\n",
    "\n",
    "4.3. Dades històriques no actualitzades:  \n",
    "Que podrien  no representar els canvis en el comportament del client. Per exemple si hi han hagut variacions econòmiques o polítiques bancàries...\n",
    "\n",
    "4.4. Manca de variables rellevants:   \n",
    "Potser faltaria alguna variable que reflectís la relació personal del client amb el banc o la confiança en el producte.\n",
    "En relació a l'atenció al client, és complexe capturar el nivell de satisfacció.\n",
    "\n",
    "4.5. Multicolinealitat:  \n",
    "En el cas que algunes variables estiguin altament correlacionades (per exemple, la duració de la trucada i la campanya)."
   ]
  },
  {
   "cell_type": "markdown",
   "id": "00fb9032-c22c-48fd-86be-5b3384754bbd",
   "metadata": {},
   "source": [
    "## 5. Consideracions sobre Dades Sensibles ##\n",
    "\n",
    "### 5.1- Tipus de Dades Sensibles:\n",
    "\n",
    "Degut a la sensibilitat de les dades, aquestes han de ser protegides rigorosament. En relació a la seguretat financera, podria ser utilitzada per activitats fraudulentes i en temes socioeconòmics, necessitem una protecció addicional per evitar la discriminació o l'ús no autoritzat.\n",
    "\n",
    "\n",
    "Informació Personal Identificable (PII): no consta en les dades aportades, cap email, ni DNI, ni nom complet.\n",
    "Informació Financera: Saldo del compte, detalls de préstecs i hipoteques. no hi ha vinculació en PII. \n",
    "Informació Sensible de Comportament: Respostes a enquestes de màrqueting, estat civil, resultat de les campanyes, no hi ha vinculació en PII.   \n",
    "\n",
    "\n",
    "### 5.2- Mesures de Protecció:\n",
    "\n",
    "Encriptació: utilitzant tècniques com AES (Advanced Encryption Standard).  \n",
    "Dades en trànsit: Utilitza protocols segurs com HTTPS o TLS, en la transmició client-servidor.  \n",
    "Accés a dades sensibles restringit només a personal autoritzat amb necessitat de conèixer aquestes dades per a fins específics del projecte.  \n",
    "Anonimització i Pseudonimització: No cal aplicar, doncs ja treballem amb un dataset sense.  \n",
    "Polítiques de Privadesa i Compliment Normatiu: Compliment del GDPR i altres regulacions si s'escau."
   ]
  }
 ],
 "metadata": {
  "kernelspec": {
   "display_name": "Python 3 (ipykernel)",
   "language": "python",
   "name": "python3"
  },
  "language_info": {
   "codemirror_mode": {
    "name": "ipython",
    "version": 3
   },
   "file_extension": ".py",
   "mimetype": "text/x-python",
   "name": "python",
   "nbconvert_exporter": "python",
   "pygments_lexer": "ipython3",
   "version": "3.12.5"
  }
 },
 "nbformat": 4,
 "nbformat_minor": 5
}
