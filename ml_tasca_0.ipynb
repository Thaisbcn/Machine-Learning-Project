{
 "cells": [
  {
   "cell_type": "markdown",
   "id": "f0cb3419-9aec-4f25-ab51-1918201b99bc",
   "metadata": {},
   "source": [
    "# Calculs senzills #"
   ]
  },
  {
   "cell_type": "code",
   "execution_count": 2,
   "id": "6db4097a-5d48-4033-8900-25873d393737",
   "metadata": {
    "scrolled": true
   },
   "outputs": [
    {
     "data": {
      "text/plain": [
       "2"
      ]
     },
     "execution_count": 2,
     "metadata": {},
     "output_type": "execute_result"
    }
   ],
   "source": [
    "1 + 1"
   ]
  },
  {
   "cell_type": "code",
   "execution_count": 3,
   "id": "62a0e0aa-dd26-43c5-9985-f97c8a1bf327",
   "metadata": {},
   "outputs": [
    {
     "data": {
      "text/plain": [
       "10"
      ]
     },
     "execution_count": 3,
     "metadata": {},
     "output_type": "execute_result"
    }
   ],
   "source": [
    "5 * 2"
   ]
  },
  {
   "cell_type": "code",
   "execution_count": 4,
   "id": "05f34de5-be51-4991-bcd9-9bda73c404a6",
   "metadata": {},
   "outputs": [],
   "source": [
    "r= 10 / 2"
   ]
  },
  {
   "cell_type": "code",
   "execution_count": 5,
   "id": "db2df6a3-91cb-4068-b192-0f7bcf8f8164",
   "metadata": {},
   "outputs": [
    {
     "data": {
      "text/plain": [
       "5.0"
      ]
     },
     "execution_count": 5,
     "metadata": {},
     "output_type": "execute_result"
    }
   ],
   "source": [
    "r"
   ]
  },
  {
   "cell_type": "code",
   "execution_count": 6,
   "id": "9593ee1e-aa7e-49b7-8688-25aa250c9a71",
   "metadata": {},
   "outputs": [],
   "source": [
    "r2= 3 ** 2"
   ]
  },
  {
   "cell_type": "code",
   "execution_count": 7,
   "id": "9bba8230-d526-4123-a77d-8a7457e4f01a",
   "metadata": {},
   "outputs": [
    {
     "data": {
      "text/plain": [
       "9"
      ]
     },
     "execution_count": 7,
     "metadata": {},
     "output_type": "execute_result"
    }
   ],
   "source": [
    "r2"
   ]
  },
  {
   "cell_type": "markdown",
   "id": "605efcc6-7913-4579-b646-9d03d12356d5",
   "metadata": {},
   "source": [
    "- Primer element\n",
    "- Segon element\n",
    "    - Sub-element\n",
    "- Tercer element\n"
   ]
  },
  {
   "cell_type": "markdown",
   "id": "c0560878-2438-4c70-8248-2da7375f702b",
   "metadata": {},
   "source": [
    "*Text en cursiva*\n",
    "_Text en cursiva_"
   ]
  },
  {
   "cell_type": "markdown",
   "id": "d5460bb1-36d2-4f80-b188-a827a16b4223",
   "metadata": {},
   "source": [
    "Això és `codi` dins del text."
   ]
  },
  {
   "cell_type": "markdown",
   "id": "88e8dc4f-8fb9-49b7-b05a-dcf4bde9f20f",
   "metadata": {},
   "source": [
    "![foto Thaïs si no es pot carregar](C:\\Users\\thais\\Documents\\foto_thais_cv_2024.jpg)"
   ]
  },
  {
   "cell_type": "code",
   "execution_count": 12,
   "id": "3e98d5f0-33cb-4aa7-b17f-074085563a06",
   "metadata": {},
   "outputs": [
    {
     "name": "stdout",
     "output_type": "stream",
     "text": [
      "Requirement already satisfied: nbconvert in c:\\users\\thais\\anaconda3\\lib\\site-packages (7.10.0)\n",
      "Requirement already satisfied: beautifulsoup4 in c:\\users\\thais\\anaconda3\\lib\\site-packages (from nbconvert) (4.12.3)\n",
      "Requirement already satisfied: bleach!=5.0.0 in c:\\users\\thais\\anaconda3\\lib\\site-packages (from nbconvert) (4.1.0)\n",
      "Requirement already satisfied: defusedxml in c:\\users\\thais\\anaconda3\\lib\\site-packages (from nbconvert) (0.7.1)\n",
      "Requirement already satisfied: jinja2>=3.0 in c:\\users\\thais\\anaconda3\\lib\\site-packages (from nbconvert) (3.1.4)\n",
      "Requirement already satisfied: jupyter-core>=4.7 in c:\\users\\thais\\anaconda3\\lib\\site-packages (from nbconvert) (5.7.2)\n",
      "Requirement already satisfied: jupyterlab-pygments in c:\\users\\thais\\anaconda3\\lib\\site-packages (from nbconvert) (0.1.2)\n",
      "Requirement already satisfied: markupsafe>=2.0 in c:\\users\\thais\\anaconda3\\lib\\site-packages (from nbconvert) (2.1.3)\n",
      "Requirement already satisfied: mistune<4,>=2.0.3 in c:\\users\\thais\\anaconda3\\lib\\site-packages (from nbconvert) (2.0.4)\n",
      "Requirement already satisfied: nbclient>=0.5.0 in c:\\users\\thais\\anaconda3\\lib\\site-packages (from nbconvert) (0.8.0)\n",
      "Requirement already satisfied: nbformat>=5.7 in c:\\users\\thais\\anaconda3\\lib\\site-packages (from nbconvert) (5.9.2)\n",
      "Requirement already satisfied: packaging in c:\\users\\thais\\anaconda3\\lib\\site-packages (from nbconvert) (23.2)\n",
      "Requirement already satisfied: pandocfilters>=1.4.1 in c:\\users\\thais\\anaconda3\\lib\\site-packages (from nbconvert) (1.5.0)\n",
      "Requirement already satisfied: pygments>=2.4.1 in c:\\users\\thais\\anaconda3\\lib\\site-packages (from nbconvert) (2.15.1)\n",
      "Requirement already satisfied: tinycss2 in c:\\users\\thais\\anaconda3\\lib\\site-packages (from nbconvert) (1.2.1)\n",
      "Requirement already satisfied: traitlets>=5.1 in c:\\users\\thais\\anaconda3\\lib\\site-packages (from nbconvert) (5.14.3)\n",
      "Requirement already satisfied: six>=1.9.0 in c:\\users\\thais\\anaconda3\\lib\\site-packages (from bleach!=5.0.0->nbconvert) (1.16.0)\n",
      "Requirement already satisfied: webencodings in c:\\users\\thais\\anaconda3\\lib\\site-packages (from bleach!=5.0.0->nbconvert) (0.5.1)\n",
      "Requirement already satisfied: platformdirs>=2.5 in c:\\users\\thais\\anaconda3\\lib\\site-packages (from jupyter-core>=4.7->nbconvert) (3.10.0)\n",
      "Requirement already satisfied: pywin32>=300 in c:\\users\\thais\\anaconda3\\lib\\site-packages (from jupyter-core>=4.7->nbconvert) (305.1)\n",
      "Requirement already satisfied: jupyter-client>=6.1.12 in c:\\users\\thais\\anaconda3\\lib\\site-packages (from nbclient>=0.5.0->nbconvert) (8.6.0)\n",
      "Requirement already satisfied: fastjsonschema in c:\\users\\thais\\anaconda3\\lib\\site-packages (from nbformat>=5.7->nbconvert) (2.16.2)\n",
      "Requirement already satisfied: jsonschema>=2.6 in c:\\users\\thais\\anaconda3\\lib\\site-packages (from nbformat>=5.7->nbconvert) (4.19.2)\n",
      "Requirement already satisfied: soupsieve>1.2 in c:\\users\\thais\\anaconda3\\lib\\site-packages (from beautifulsoup4->nbconvert) (2.5)\n",
      "Requirement already satisfied: attrs>=22.2.0 in c:\\users\\thais\\anaconda3\\lib\\site-packages (from jsonschema>=2.6->nbformat>=5.7->nbconvert) (23.1.0)\n",
      "Requirement already satisfied: jsonschema-specifications>=2023.03.6 in c:\\users\\thais\\anaconda3\\lib\\site-packages (from jsonschema>=2.6->nbformat>=5.7->nbconvert) (2023.7.1)\n",
      "Requirement already satisfied: referencing>=0.28.4 in c:\\users\\thais\\anaconda3\\lib\\site-packages (from jsonschema>=2.6->nbformat>=5.7->nbconvert) (0.30.2)\n",
      "Requirement already satisfied: rpds-py>=0.7.1 in c:\\users\\thais\\anaconda3\\lib\\site-packages (from jsonschema>=2.6->nbformat>=5.7->nbconvert) (0.10.6)\n",
      "Requirement already satisfied: python-dateutil>=2.8.2 in c:\\users\\thais\\anaconda3\\lib\\site-packages (from jupyter-client>=6.1.12->nbclient>=0.5.0->nbconvert) (2.9.0.post0)\n",
      "Requirement already satisfied: pyzmq>=23.0 in c:\\users\\thais\\anaconda3\\lib\\site-packages (from jupyter-client>=6.1.12->nbclient>=0.5.0->nbconvert) (25.1.2)\n",
      "Requirement already satisfied: tornado>=6.2 in c:\\users\\thais\\anaconda3\\lib\\site-packages (from jupyter-client>=6.1.12->nbclient>=0.5.0->nbconvert) (6.4.1)\n",
      "Note: you may need to restart the kernel to use updated packages.\n"
     ]
    }
   ],
   "source": [
    "pip install nbconvert"
   ]
  },
  {
   "cell_type": "code",
   "execution_count": 13,
   "id": "d3eff090-5a98-4868-8bf4-05fc9772fdbc",
   "metadata": {},
   "outputs": [
    {
     "name": "stdout",
     "output_type": "stream",
     "text": [
      "Requirement already satisfied: playwright in c:\\users\\thais\\anaconda3\\lib\\site-packages (1.47.0)\n",
      "Requirement already satisfied: greenlet==3.0.3 in c:\\users\\thais\\anaconda3\\lib\\site-packages (from playwright) (3.0.3)\n",
      "Requirement already satisfied: pyee==12.0.0 in c:\\users\\thais\\anaconda3\\lib\\site-packages (from playwright) (12.0.0)\n",
      "Requirement already satisfied: typing-extensions in c:\\users\\thais\\anaconda3\\lib\\site-packages (from pyee==12.0.0->playwright) (4.11.0)\n",
      "Note: you may need to restart the kernel to use updated packages.\n"
     ]
    }
   ],
   "source": [
    "pip install playwright<az"
   ]
  },
  {
   "cell_type": "code",
   "execution_count": 14,
   "id": "cf3b5577-056a-4a9d-80f5-a4ecaa1d8693",
   "metadata": {},
   "outputs": [
    {
     "name": "stdout",
     "output_type": "stream",
     "text": [
      "Requirement already satisfied: chromium in c:\\users\\thais\\anaconda3\\lib\\site-packages (0.0.0)\n",
      "Note: you may need to restart the kernel to use updated packages.\n"
     ]
    }
   ],
   "source": [
    "pip install chromium"
   ]
  },
  {
   "cell_type": "code",
   "execution_count": 15,
   "id": "af34fae6-a168-41ad-97b1-54246837c8c4",
   "metadata": {},
   "outputs": [
    {
     "name": "stdout",
     "output_type": "stream",
     "text": [
      "Downloading Chromium 129.0.6668.29 (playwright build v1134)\u001b[2m from https://playwright.azureedge.net/builds/chromium/1134/chromium-win64.zip\u001b[22m\n",
      "|                                                                                |   0% of 139 MiB\n",
      "|â– â– â– â– â– â– â– â–                                                                         |  10% of 139 MiB\n",
      "|â– â– â– â– â– â– â– â– â– â– â– â– â– â– â– â–                                                                 |  20% of 139 MiB\n",
      "|â– â– â– â– â– â– â– â– â– â– â– â– â– â– â– â– â– â– â– â– â– â– â– â–                                                         |  30% of 139 MiB\n",
      "|â– â– â– â– â– â– â– â– â– â– â– â– â– â– â– â– â– â– â– â– â– â– â– â– â– â– â– â– â– â– â– â–                                                 |  40% of 139 MiB\n",
      "|â– â– â– â– â– â– â– â– â– â– â– â– â– â– â– â– â– â– â– â– â– â– â– â– â– â– â– â– â– â– â– â– â– â– â– â– â– â– â– â–                                         |  50% of 139 MiB\n",
      "|â– â– â– â– â– â– â– â– â– â– â– â– â– â– â– â– â– â– â– â– â– â– â– â– â– â– â– â– â– â– â– â– â– â– â– â– â– â– â– â– â– â– â– â– â– â– â– â–                                 |  60% of 139 MiB\n",
      "|â– â– â– â– â– â– â– â– â– â– â– â– â– â– â– â– â– â– â– â– â– â– â– â– â– â– â– â– â– â– â– â– â– â– â– â– â– â– â– â– â– â– â– â– â– â– â– â– â– â– â– â– â– â– â– â–                         |  70% of 139 MiB\n",
      "|â– â– â– â– â– â– â– â– â– â– â– â– â– â– â– â– â– â– â– â– â– â– â– â– â– â– â– â– â– â– â– â– â– â– â– â– â– â– â– â– â– â– â– â– â– â– â– â– â– â– â– â– â– â– â– â– â– â– â– â– â– â– â– â–                 |  80% of 139 MiB\n",
      "|â– â– â– â– â– â– â– â– â– â– â– â– â– â– â– â– â– â– â– â– â– â– â– â– â– â– â– â– â– â– â– â– â– â– â– â– â– â– â– â– â– â– â– â– â– â– â– â– â– â– â– â– â– â– â– â– â– â– â– â– â– â– â– â– â– â– â– â– â– â– â– â–         |  90% of 139 MiB\n",
      "|â– â– â– â– â– â– â– â– â– â– â– â– â– â– â– â– â– â– â– â– â– â– â– â– â– â– â– â– â– â– â– â– â– â– â– â– â– â– â– â– â– â– â– â– â– â– â– â– â– â– â– â– â– â– â– â– â– â– â– â– â– â– â– â– â– â– â– â– â– â– â– â– â– â– â– â– â– â– â– â– | 100% of 139 MiB\n",
      "Chromium 129.0.6668.29 (playwright build v1134) downloaded to C:\\Users\\thais\\AppData\\Local\\ms-playwright\\chromium-1134\n",
      "Downloading FFMPEG playwright build v1010\u001b[2m from https://playwright.azureedge.net/builds/ffmpeg/1010/ffmpeg-win64.zip\u001b[22m\n",
      "|                                                                                |   1% of 1.3 MiB\n",
      "|â– â– â– â– â– â– â– â–                                                                         |  10% of 1.3 MiB\n",
      "|â– â– â– â– â– â– â– â– â– â– â– â– â– â– â– â–                                                                 |  20% of 1.3 MiB\n",
      "|â– â– â– â– â– â– â– â– â– â– â– â– â– â– â– â– â– â– â– â– â– â– â– â–                                                         |  30% of 1.3 MiB\n",
      "|â– â– â– â– â– â– â– â– â– â– â– â– â– â– â– â– â– â– â– â– â– â– â– â– â– â– â– â– â– â– â– â–                                                 |  40% of 1.3 MiB\n",
      "|â– â– â– â– â– â– â– â– â– â– â– â– â– â– â– â– â– â– â– â– â– â– â– â– â– â– â– â– â– â– â– â– â– â– â– â– â– â– â– â–                                         |  51% of 1.3 MiB\n",
      "|â– â– â– â– â– â– â– â– â– â– â– â– â– â– â– â– â– â– â– â– â– â– â– â– â– â– â– â– â– â– â– â– â– â– â– â– â– â– â– â– â– â– â– â– â– â– â– â–                                 |  60% of 1.3 MiB\n",
      "|â– â– â– â– â– â– â– â– â– â– â– â– â– â– â– â– â– â– â– â– â– â– â– â– â– â– â– â– â– â– â– â– â– â– â– â– â– â– â– â– â– â– â– â– â– â– â– â– â– â– â– â– â– â– â– â–                         |  70% of 1.3 MiB\n",
      "|â– â– â– â– â– â– â– â– â– â– â– â– â– â– â– â– â– â– â– â– â– â– â– â– â– â– â– â– â– â– â– â– â– â– â– â– â– â– â– â– â– â– â– â– â– â– â– â– â– â– â– â– â– â– â– â– â– â– â– â– â– â– â– â–                 |  80% of 1.3 MiB\n",
      "|â– â– â– â– â– â– â– â– â– â– â– â– â– â– â– â– â– â– â– â– â– â– â– â– â– â– â– â– â– â– â– â– â– â– â– â– â– â– â– â– â– â– â– â– â– â– â– â– â– â– â– â– â– â– â– â– â– â– â– â– â– â– â– â– â– â– â– â– â– â– â– â–         |  90% of 1.3 MiB\n",
      "|â– â– â– â– â– â– â– â– â– â– â– â– â– â– â– â– â– â– â– â– â– â– â– â– â– â– â– â– â– â– â– â– â– â– â– â– â– â– â– â– â– â– â– â– â– â– â– â– â– â– â– â– â– â– â– â– â– â– â– â– â– â– â– â– â– â– â– â– â– â– â– â– â– â– â– â– â– â– â– â– | 100% of 1.3 MiB\n",
      "FFMPEG playwright build v1010 downloaded to C:\\Users\\thais\\AppData\\Local\\ms-playwright\\ffmpeg-1010\n"
     ]
    },
    {
     "name": "stderr",
     "output_type": "stream",
     "text": [
      "[NbConvertApp] Converting notebook ml_tasca_0.ipynb to webpdf\n",
      "[NbConvertApp] Building PDF\n",
      "[NbConvertApp] PDF successfully created\n",
      "[NbConvertApp] Writing 64659 bytes to ml_tasca_0.pdf\n",
      "Exception ignored in: <function _ProactorBasePipeTransport.__del__ at 0x00000237D1635940>\n",
      "Traceback (most recent call last):\n",
      "  File \"C:\\Users\\thais\\anaconda3\\Lib\\asyncio\\proactor_events.py\", line 116, in __del__\n",
      "    _warn(f\"unclosed transport {self!r}\", ResourceWarning, source=self)\n",
      "                               ^^^^^^^^\n",
      "  File \"C:\\Users\\thais\\anaconda3\\Lib\\asyncio\\proactor_events.py\", line 80, in __repr__\n",
      "    info.append(f'fd={self._sock.fileno()}')\n",
      "                      ^^^^^^^^^^^^^^^^^^^\n",
      "  File \"C:\\Users\\thais\\anaconda3\\Lib\\asyncio\\windows_utils.py\", line 102, in fileno\n",
      "    raise ValueError(\"I/O operation on closed pipe\")\n",
      "ValueError: I/O operation on closed pipe\n",
      "Task was destroyed but it is pending!\n",
      "task: <Task pending name='Task-2' coro=<Connection.run() running at C:\\Users\\thais\\anaconda3\\Lib\\site-packages\\playwright\\_impl\\_connection.py:274> wait_for=<Future pending cb=[Task.task_wakeup()]>>\n",
      "Exception ignored in: <function BaseSubprocessTransport.__del__ at 0x00000237D1634180>\n",
      "Traceback (most recent call last):\n",
      "  File \"C:\\Users\\thais\\anaconda3\\Lib\\asyncio\\base_subprocess.py\", line 125, in __del__\n",
      "    _warn(f\"unclosed transport {self!r}\", ResourceWarning, source=self)\n",
      "                               ^^^^^^^^\n",
      "  File \"C:\\Users\\thais\\anaconda3\\Lib\\asyncio\\base_subprocess.py\", line 70, in __repr__\n",
      "    info.append(f'stdin={stdin.pipe}')\n",
      "                        ^^^^^^^^^^^^\n",
      "  File \"C:\\Users\\thais\\anaconda3\\Lib\\asyncio\\proactor_events.py\", line 80, in __repr__\n",
      "    info.append(f'fd={self._sock.fileno()}')\n",
      "                      ^^^^^^^^^^^^^^^^^^^\n",
      "  File \"C:\\Users\\thais\\anaconda3\\Lib\\asyncio\\windows_utils.py\", line 102, in fileno\n",
      "    raise ValueError(\"I/O operation on closed pipe\")\n",
      "ValueError: I/O operation on closed pipe\n"
     ]
    }
   ],
   "source": [
    "!jupyter nbconvert --to webpdf ml_tasca_0.ipynb --allow-chromium-download"
   ]
  },
  {
   "cell_type": "code",
   "execution_count": null,
   "id": "f021fc66-5f50-48bf-b67c-577f3c330e5d",
   "metadata": {},
   "outputs": [],
   "source": [
    "!jupyter nbconvert --to pdf ml_tasca_0.ipynb --allow-chromium-download\n"
   ]
  }
 ],
 "metadata": {
  "kernelspec": {
   "display_name": "Python 3 (ipykernel)",
   "language": "python",
   "name": "python3"
  },
  "language_info": {
   "codemirror_mode": {
    "name": "ipython",
    "version": 3
   },
   "file_extension": ".py",
   "mimetype": "text/x-python",
   "name": "python",
   "nbconvert_exporter": "python",
   "pygments_lexer": "ipython3",
   "version": "3.12.4"
  }
 },
 "nbformat": 4,
 "nbformat_minor": 5
}
