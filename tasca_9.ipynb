{
 "cells": [
  {
   "cell_type": "code",
   "execution_count": 12,
   "id": "e493912e-02d1-41e5-bea5-406ff9091b39",
   "metadata": {},
   "outputs": [],
   "source": [
    "import pandas as pd\n",
    "import numpy as np\n",
    "import pickle\n",
    "from sklearn.preprocessing import RobustScaler\n",
    "from sklearn.ensemble import RandomForestClassifier"
   ]
  },
  {
   "cell_type": "code",
   "execution_count": 13,
   "id": "f0c86db6-3ae0-4f79-9e9e-5700cbac5d39",
   "metadata": {},
   "outputs": [
    {
     "name": "stdout",
     "output_type": "stream",
     "text": [
      "Escalador y modelo cargados exitosamente.\n"
     ]
    }
   ],
   "source": [
    "# Cargar el modelo y el escalador guardados\n",
    "with open('robust_scaler.pkl', 'rb') as scaler_file:\n",
    "    scaler = pickle.load(scaler_file)\n",
    "\n",
    "with open('random_forest_model.pkl', 'rb') as model_file:\n",
    "    model = pickle.load(model_file)\n",
    "\n",
    "print(\"Escalador y modelo cargados exitosamente.\")"
   ]
  },
  {
   "cell_type": "code",
   "execution_count": 14,
   "id": "38958d82-2d26-4cc3-b822-e069b735a166",
   "metadata": {},
   "outputs": [],
   "source": [
    "# Definir la función de predicción\n",
    "def predict_deposit(age, balance, duration, campaign, contact_previ_numeric, default_numeric=0, housing_numeric=0, loan_numeric=0, pdays=999):\n",
    "    # Crear un DataFrame con los datos de entrada\n",
    "    input_data = pd.DataFrame({\n",
    "        'age': [age],\n",
    "        'balance': [balance],\n",
    "        'duration': [duration],\n",
    "        'campaign': [campaign],\n",
    "        'contact_previ_numeric': [contact_previ_numeric],\n",
    "        'default_numeric': [default_numeric],\n",
    "        'housing_numeric': [housing_numeric],\n",
    "        'loan_numeric': [loan_numeric],\n",
    "        'pdays': [pdays]\n",
    "    })\n",
    "\n",
    "    # Escalar los datos de entrada\n",
    "    scaled_input = scaler.transform(input_data)\n",
    "    \n",
    "    # Realizar la predicción\n",
    "    prediction = model.predict(scaled_input)\n",
    "    \n",
    "    # Retornar el resultado\n",
    "    return 'Sí' if prediction[0] == 1 else 'No'\n"
   ]
  },
  {
   "cell_type": "code",
   "execution_count": 15,
   "id": "636291de-63e8-4d51-b2d3-50c259bd9ed8",
   "metadata": {},
   "outputs": [
    {
     "name": "stdout",
     "output_type": "stream",
     "text": [
      "Aplicación Streamlit guardada en 'app.py'.\n"
     ]
    }
   ],
   "source": [
    "# Crear y guardar el archivo de la aplicación Streamlit\n",
    "with open(\"app.py\", \"w\") as file:\n",
    "    file.write('''\n",
    "\n",
    "import streamlit as st\n",
    "import pandas as pd\n",
    "import pickle\n",
    "\n",
    "# Cargar el modelo y el escalador\n",
    "with open('robust_scaler.pkl', 'rb') as scaler_file:\n",
    "    scaler = pickle.load(scaler_file)\n",
    "\n",
    "with open('random_forest_model.pkl', 'rb') as model_file:\n",
    "    model = pickle.load(model_file)\n",
    "\n",
    "# Función de predicción\n",
    "def predict_deposit(age, balance, duration, campaign, contact_previ_numeric, default_numeric=0, housing_numeric=0, loan_numeric=0, pdays=999):\n",
    "    input_data = pd.DataFrame({\n",
    "        'age': [age],\n",
    "        'balance': [balance],\n",
    "        'duration': [duration],\n",
    "        'campaign': [campaign],\n",
    "        'contact_previ_numeric': [contact_previ_numeric],\n",
    "        'default_numeric': [default_numeric],\n",
    "        'housing_numeric': [housing_numeric],\n",
    "        'loan_numeric': [loan_numeric],\n",
    "        'pdays': [pdays]\n",
    "    })\n",
    "    \n",
    "    scaled_input = scaler.transform(input_data)\n",
    "    prediction = model.predict(scaled_input)\n",
    "    \n",
    "    return 'Sí' if prediction[0] == 1 else 'No'\n",
    "\n",
    "# Configuración de la app Streamlit\n",
    "st.title(\"Predicción de Depósito a Plazo\")\n",
    "\n",
    "st.write(\"Ingrese la información del cliente para predecir si contratará un depósito a plazo.\")\n",
    "\n",
    "# Entradas de usuario\n",
    "age = st.number_input(\"Edad\", min_value=18, max_value=100, value=30)\n",
    "balance = st.number_input(\"Saldo en cuenta\", min_value=0, value=1000)\n",
    "duration = st.number_input(\"Duración de la última campaña\", min_value=0, value=300)\n",
    "campaign = st.number_input(\"Número de contactos realizados\", min_value=1, value=1)\n",
    "contact_previ_numeric = st.number_input(\"Número de contactos previos\", min_value=0, value=0)\n",
    "default_numeric = st.selectbox(\"¿Tiene crédito en incumplimiento?\", [\"No\", \"Sí\"], index=0)\n",
    "housing_numeric = st.selectbox(\"¿Tiene préstamo de vivienda?\", [\"No\", \"Sí\"], index=0)\n",
    "loan_numeric = st.selectbox(\"¿Tiene préstamo personal?\", [\"No\", \"Sí\"], index=0)\n",
    "pdays = st.number_input(\"Días desde último contacto\", min_value=-1, value=999)\n",
    "\n",
    "# Convertir selecciones a valores numéricos\n",
    "default_numeric = 1 if default_numeric == \"Sí\" else 0\n",
    "housing_numeric = 1 if housing_numeric == \"Sí\" else 0\n",
    "loan_numeric = 1 if loan_numeric == \"Sí\" else 0\n",
    "\n",
    "# Predicción\n",
    "if st.button(\"Predecir\"):\n",
    "    resultado = predict_deposit(age, balance, duration, campaign, contact_previ_numeric, default_numeric, housing_numeric, loan_numeric, pdays)\n",
    "    st.write(f\"¿El cliente contratará un depósito a plazo? {resultado}\")\n",
    "\n",
    "''')\n",
    "\n",
    "print(\"Aplicación Streamlit guardada en 'app.py'.\")\n"
   ]
  },
  {
   "cell_type": "code",
   "execution_count": 16,
   "id": "8441e66a-89a7-43d7-afba-1f336525d6e9",
   "metadata": {},
   "outputs": [],
   "source": [
    "!pip freeze > requirements.txt\n"
   ]
  },
  {
   "cell_type": "code",
   "execution_count": 10,
   "id": "bd1f3f32-78a0-4b53-a68c-ab1fd9632367",
   "metadata": {},
   "outputs": [],
   "source": [
    "# pip install --upgrade streamlit\n"
   ]
  }
 ],
 "metadata": {
  "kernelspec": {
   "display_name": "Python 3 (ipykernel)",
   "language": "python",
   "name": "python3"
  },
  "language_info": {
   "codemirror_mode": {
    "name": "ipython",
    "version": 3
   },
   "file_extension": ".py",
   "mimetype": "text/x-python",
   "name": "python",
   "nbconvert_exporter": "python",
   "pygments_lexer": "ipython3",
   "version": "3.12.5"
  }
 },
 "nbformat": 4,
 "nbformat_minor": 5
}
