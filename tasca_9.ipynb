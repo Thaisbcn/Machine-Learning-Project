{
 "cells": [
  {
   "cell_type": "code",
   "execution_count": 14,
   "id": "e493912e-02d1-41e5-bea5-406ff9091b39",
   "metadata": {},
   "outputs": [],
   "source": [
    "import pandas as pd\n",
    "import numpy as np\n",
    "import pickle\n",
    "import os\n",
    "from sklearn.preprocessing import RobustScaler\n",
    "from sklearn.ensemble import RandomForestClassifier\n",
    "import streamlit as st\n",
    "import warnings\n",
    "\n",
    "# Suprimir todas las advertencias\n",
    "warnings.filterwarnings('ignore')\n"
   ]
  },
  {
   "cell_type": "code",
   "execution_count": 17,
   "id": "b4713bb8-05c6-4c51-a3a9-137f4bf51641",
   "metadata": {},
   "outputs": [],
   "source": [
    "# Define la ruta de los archivos\n",
    "ruta_modelo = r'C:\\Users\\thais\\documents\\00_machine_learning\\random_forest_model.pkl'\n",
    "ruta_escalador = r'C:\\Users\\thais\\documents\\00_machine_learning\\robust_scaler.pkl'\n",
    "\n",
    "# Cargar el modelo\n",
    "with open(ruta_modelo, 'rb') as modelo_file:\n",
    "    modelo = pickle.load(modelo_file)\n",
    "\n",
    "# Cargar el escalador\n",
    "with open(ruta_escalador, 'rb') as escalador_file:\n",
    "    escalador = pickle.load(escalador_file)"
   ]
  },
  {
   "cell_type": "code",
   "execution_count": 37,
   "id": "636291de-63e8-4d51-b2d3-50c259bd9ed8",
   "metadata": {},
   "outputs": [
    {
     "name": "stdout",
     "output_type": "stream",
     "text": [
      "Aplicación Streamlit guardada en 'app.py'.\n"
     ]
    }
   ],
   "source": [
    "# Crear y guardar el archivo de la aplicación Streamlit\n",
    "with open(\"app.py\", \"w\", encoding=\"utf-8\") as file:\n",
    "    file.write('''\n",
    "\n",
    "import streamlit as st\n",
    "import pandas as pd\n",
    "import pickle\n",
    "\n",
    "# Cargar el modelo y el escalador\n",
    "with open('robust_scaler.pkl', 'rb') as scaler_file:\n",
    "    scaler = pickle.load(scaler_file)\n",
    "\n",
    "with open('random_forest_model.pkl', 'rb') as model_file:\n",
    "    model = pickle.load(model_file)\n",
    "\n",
    "# Función de predicción\n",
    "def predict_deposit(age, balance, duration, contact_previ_numeric, default_numeric=0, housing_numeric=0, loan_numeric=0, pdays=999):\n",
    "    input_data = pd.DataFrame({\n",
    "        'age': [age],\n",
    "        'balance': [balance],\n",
    "        'duration': [duration],\n",
    "        'contact_previ_numeric': [contact_previ_numeric],\n",
    "        'default_numeric': [default_numeric],\n",
    "        'housing_numeric': [housing_numeric],\n",
    "        'loan_numeric': [loan_numeric],\n",
    "        'pdays': [pdays]\n",
    "    })\n",
    "    \n",
    "    scaled_input = scaler.transform(input_data)\n",
    "    prediction = model.predict(scaled_input)\n",
    "    \n",
    "    return 'Sí' if prediction[0] == 1 else 'No'\n",
    "\n",
    "# Configuración de la app Streamlit\n",
    "st.title(\"Predicción de Depósito a Plazo\")\n",
    "\n",
    "st.write(\"Ingrese la información del cliente para predecir si contratará un depósito a plazo.\")\n",
    "\n",
    "# Entradas de usuario\n",
    "age = st.number_input(\"Edad\", min_value=18, max_value=100, value=30)\n",
    "balance = st.number_input(\"Saldo en cuenta\", min_value=0, value=10000)\n",
    "duration = st.number_input(\"Duración de la última campaña\", min_value=0, value=300)\n",
    "contact_previ_numeric = st.number_input(\"Número de contactos previos\", min_value=0, value=0)\n",
    "default_numeric = st.selectbox(\"¿Tiene crédito en incumplimiento?\", [\"No\", \"Sí\"], index=0)\n",
    "housing_numeric = st.selectbox(\"¿Tiene préstamo de vivienda?\", [\"No\", \"Sí\"], index=0)\n",
    "loan_numeric = st.selectbox(\"¿Tiene préstamo personal?\", [\"No\", \"Sí\"], index=0)\n",
    "pdays = st.number_input(\"Días desde último contacto\", min_value=-1, value=999)\n",
    "\n",
    "# Convertir selecciones a valores numéricos\n",
    "default_numeric = 1 if default_numeric == \"Sí\" else 0\n",
    "housing_numeric = 1 if housing_numeric == \"Sí\" else 0\n",
    "loan_numeric = 1 if loan_numeric == \"Sí\" else 0\n",
    "\n",
    "# Predicción\n",
    "if st.button(\"Predecir\"):\n",
    "    resultado = predict_deposit(age, balance, duration, contact_previ_numeric, default_numeric, housing_numeric, loan_numeric, pdays)\n",
    "    st.write(f\"¿El cliente contratará un depósito a plazo? {resultado}\")\n",
    "\n",
    "''')\n",
    "\n",
    "print(\"Aplicación Streamlit guardada en 'app.py'.\")\n"
   ]
  },
  {
   "cell_type": "code",
   "execution_count": 22,
   "id": "0602beee-381c-4c80-b54d-f575b559b3c8",
   "metadata": {},
   "outputs": [
    {
     "name": "stdout",
     "output_type": "stream",
     "text": [
      "Archivo requirements.txt creado exitosamente.\n",
      "Streamlit instalado exitosamente.\n",
      "La aplicación Streamlit se está ejecutando.\n"
     ]
    }
   ],
   "source": [
    "# Importar bibliotecas necesarias\n",
    "import os\n",
    "import subprocess\n",
    "\n",
    "# Crear el archivo requirements.txt\n",
    "requirements_content = '''\n",
    "pandas\n",
    "numpy\n",
    "scikit-learn\n",
    "streamlit\n",
    "xgboost\n",
    "'''\n",
    "\n",
    "# Guardar el archivo requirements.txt en el directorio actual\n",
    "with open('requirements.txt', 'w') as f:\n",
    "    f.write(requirements_content.strip())\n",
    "\n",
    "print(\"Archivo requirements.txt creado exitosamente.\")\n",
    "\n",
    "# Instalar Streamlit en el entorno actual\n",
    "try:\n",
    "    subprocess.check_call(['pip', 'install', 'streamlit'])\n",
    "    print(\"Streamlit instalado exitosamente.\")\n",
    "except Exception as e:\n",
    "    print(f\"Error al instalar Streamlit: {e}\")\n",
    "\n",
    "# Ejecutar la aplicación Streamlit\n",
    "try:\n",
    "    # Este comando ejecutará la app.py en el entorno actual\n",
    "    subprocess.Popen(['streamlit', 'run', 'app.py'])\n",
    "    print(\"La aplicación Streamlit se está ejecutando.\")\n",
    "except Exception as e:\n",
    "    print(f\"Error al ejecutar la aplicación: {e}\")\n"
   ]
  },
  {
   "cell_type": "code",
   "execution_count": null,
   "id": "283f241f-045f-4519-ad5f-81860bdf9b94",
   "metadata": {},
   "outputs": [],
   "source": []
  }
 ],
 "metadata": {
  "kernelspec": {
   "display_name": "Python 3 (ipykernel)",
   "language": "python",
   "name": "python3"
  },
  "language_info": {
   "codemirror_mode": {
    "name": "ipython",
    "version": 3
   },
   "file_extension": ".py",
   "mimetype": "text/x-python",
   "name": "python",
   "nbconvert_exporter": "python",
   "pygments_lexer": "ipython3",
   "version": "3.12.5"
  }
 },
 "nbformat": 4,
 "nbformat_minor": 5
}
