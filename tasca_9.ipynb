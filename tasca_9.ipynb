{
 "cells": [
  {
   "cell_type": "code",
   "execution_count": 1,
   "id": "e493912e-02d1-41e5-bea5-406ff9091b39",
   "metadata": {},
   "outputs": [],
   "source": [
    "import pandas as pd\n",
    "import numpy as np\n",
    "import pickle\n",
    "from sklearn.preprocessing import RobustScaler\n",
    "from sklearn.ensemble import RandomForestClassifier"
   ]
  },
  {
   "cell_type": "code",
   "execution_count": 2,
   "id": "f0c86db6-3ae0-4f79-9e9e-5700cbac5d39",
   "metadata": {},
   "outputs": [
    {
     "name": "stdout",
     "output_type": "stream",
     "text": [
      "Escalador y modelo cargados exitosamente.\n"
     ]
    }
   ],
   "source": [
    "# Cargar el modelo y el escalador guardados\n",
    "with open('robust_scaler.pkl', 'rb') as scaler_file:\n",
    "    scaler = pickle.load(scaler_file)\n",
    "\n",
    "with open('random_forest_model.pkl', 'rb') as model_file:\n",
    "    model = pickle.load(model_file)\n",
    "\n",
    "print(\"Escalador y modelo cargados exitosamente.\")"
   ]
  },
  {
   "cell_type": "code",
   "execution_count": 3,
   "id": "38958d82-2d26-4cc3-b822-e069b735a166",
   "metadata": {},
   "outputs": [],
   "source": [
    "# Definir la función de predicción\n",
    "def predict_deposit(age, balance, duration, campaign, contact_previ_numeric, default_numeric=0, housing_numeric=0, loan_numeric=0, pdays=999):\n",
    "    # Crear un DataFrame con los datos de entrada\n",
    "    input_data = pd.DataFrame({\n",
    "        'age': [age],\n",
    "        'balance': [balance],\n",
    "        'duration': [duration],\n",
    "        'campaign': [campaign],\n",
    "        'contact_previ_numeric': [contact_previ_numeric],\n",
    "        'default_numeric': [default_numeric],\n",
    "        'housing_numeric': [housing_numeric],\n",
    "        'loan_numeric': [loan_numeric],\n",
    "        'pdays': [pdays]\n",
    "    })\n",
    "\n",
    "    # Escalar los datos de entrada\n",
    "    scaled_input = scaler.transform(input_data)\n",
    "    \n",
    "    # Realizar la predicción\n",
    "    prediction = model.predict(scaled_input)\n",
    "    \n",
    "    # Retornar el resultado\n",
    "    return 'Sí' if prediction[0] == 1 else 'No'\n"
   ]
  },
  {
   "cell_type": "code",
   "execution_count": 4,
   "id": "636291de-63e8-4d51-b2d3-50c259bd9ed8",
   "metadata": {},
   "outputs": [
    {
     "name": "stdout",
     "output_type": "stream",
     "text": [
      "Aplicación Streamlit guardada en 'app.py'.\n"
     ]
    }
   ],
   "source": [
    "# Crear y guardar el archivo de la aplicación Streamlit\n",
    "with open(\"app.py\", \"w\", encoding=\"utf-8\") as file:\n",
    "    file.write('''\n",
    "\n",
    "import streamlit as st\n",
    "import pandas as pd\n",
    "import pickle\n",
    "\n",
    "# Cargar el modelo y el escalador\n",
    "with open('robust_scaler.pkl', 'rb') as scaler_file:\n",
    "    scaler = pickle.load(scaler_file)\n",
    "\n",
    "with open('random_forest_model.pkl', 'rb') as model_file:\n",
    "    model = pickle.load(model_file)\n",
    "\n",
    "# Función de predicción\n",
    "def predict_deposit(age, balance, duration, campaign, contact_previ_numeric, default_numeric=0, housing_numeric=0, loan_numeric=0, pdays=999):\n",
    "    input_data = pd.DataFrame({\n",
    "        'age': [age],\n",
    "        'balance': [balance],\n",
    "        'duration': [duration],\n",
    "        'campaign': [campaign],\n",
    "        'contact_previ_numeric': [contact_previ_numeric],\n",
    "        'default_numeric': [default_numeric],\n",
    "        'housing_numeric': [housing_numeric],\n",
    "        'loan_numeric': [loan_numeric],\n",
    "        'pdays': [pdays]\n",
    "    })\n",
    "    \n",
    "    scaled_input = scaler.transform(input_data)\n",
    "    prediction = model.predict(scaled_input)\n",
    "    \n",
    "    return 'Sí' if prediction[0] == 1 else 'No'\n",
    "\n",
    "# Configuración de la app Streamlit\n",
    "st.title(\"Predicción de Depósito a Plazo\")\n",
    "\n",
    "st.write(\"Ingrese la información del cliente para predecir si contratará un depósito a plazo.\")\n",
    "\n",
    "# Entradas de usuario\n",
    "age = st.number_input(\"Edad\", min_value=18, max_value=100, value=30)\n",
    "balance = st.number_input(\"Saldo en cuenta\", min_value=0, value=1000)\n",
    "duration = st.number_input(\"Duración de la última campaña\", min_value=0, value=300)\n",
    "campaign = st.number_input(\"Número de contactos realizados\", min_value=1, value=1)\n",
    "contact_previ_numeric = st.number_input(\"Número de contactos previos\", min_value=0, value=0)\n",
    "default_numeric = st.selectbox(\"¿Tiene crédito en incumplimiento?\", [\"No\", \"Sí\"], index=0)\n",
    "housing_numeric = st.selectbox(\"¿Tiene préstamo de vivienda?\", [\"No\", \"Sí\"], index=0)\n",
    "loan_numeric = st.selectbox(\"¿Tiene préstamo personal?\", [\"No\", \"Sí\"], index=0)\n",
    "pdays = st.number_input(\"Días desde último contacto\", min_value=-1, value=999)\n",
    "\n",
    "# Convertir selecciones a valores numéricos\n",
    "default_numeric = 1 if default_numeric == \"Sí\" else 0\n",
    "housing_numeric = 1 if housing_numeric == \"Sí\" else 0\n",
    "loan_numeric = 1 if loan_numeric == \"Sí\" else 0\n",
    "\n",
    "# Predicción\n",
    "if st.button(\"Predecir\"):\n",
    "    resultado = predict_deposit(age, balance, duration, campaign, contact_previ_numeric, default_numeric, housing_numeric, loan_numeric, pdays)\n",
    "    st.write(f\"¿El cliente contratará un depósito a plazo? {resultado}\")\n",
    "\n",
    "''')\n",
    "\n",
    "print(\"Aplicación Streamlit guardada en 'app.py'.\")\n"
   ]
  },
  {
   "cell_type": "code",
   "execution_count": 5,
   "id": "8441e66a-89a7-43d7-afba-1f336525d6e9",
   "metadata": {},
   "outputs": [],
   "source": [
    "!pip freeze > requirements.txt\n"
   ]
  },
  {
   "cell_type": "code",
   "execution_count": 6,
   "id": "bd1f3f32-78a0-4b53-a68c-ab1fd9632367",
   "metadata": {},
   "outputs": [
    {
     "name": "stdout",
     "output_type": "stream",
     "text": [
      "Requirement already satisfied: streamlit in c:\\users\\thais\\anaconda3\\envs\\entorn_ml\\lib\\site-packages (1.39.0)Note: you may need to restart the kernel to use updated packages.\n",
      "\n",
      "Requirement already satisfied: altair<6,>=4.0 in c:\\users\\thais\\anaconda3\\envs\\entorn_ml\\lib\\site-packages (from streamlit) (5.0.1)\n",
      "Requirement already satisfied: blinker<2,>=1.0.0 in c:\\users\\thais\\anaconda3\\envs\\entorn_ml\\lib\\site-packages (from streamlit) (1.6.2)\n",
      "Requirement already satisfied: cachetools<6,>=4.0 in c:\\users\\thais\\anaconda3\\envs\\entorn_ml\\lib\\site-packages (from streamlit) (5.3.3)\n",
      "Requirement already satisfied: click<9,>=7.0 in c:\\users\\thais\\anaconda3\\envs\\entorn_ml\\lib\\site-packages (from streamlit) (8.1.7)\n",
      "Requirement already satisfied: numpy<3,>=1.20 in c:\\users\\thais\\anaconda3\\envs\\entorn_ml\\lib\\site-packages (from streamlit) (1.26.4)\n",
      "Requirement already satisfied: packaging<25,>=20 in c:\\users\\thais\\anaconda3\\envs\\entorn_ml\\lib\\site-packages (from streamlit) (24.1)\n",
      "Requirement already satisfied: pandas<3,>=1.4.0 in c:\\users\\thais\\anaconda3\\envs\\entorn_ml\\lib\\site-packages (from streamlit) (2.2.2)\n",
      "Requirement already satisfied: pillow<11,>=7.1.0 in c:\\users\\thais\\anaconda3\\envs\\entorn_ml\\lib\\site-packages (from streamlit) (10.4.0)\n",
      "Requirement already satisfied: protobuf<6,>=3.20 in c:\\users\\thais\\anaconda3\\envs\\entorn_ml\\lib\\site-packages (from streamlit) (4.25.3)\n",
      "Requirement already satisfied: pyarrow>=7.0 in c:\\users\\thais\\anaconda3\\envs\\entorn_ml\\lib\\site-packages (from streamlit) (16.1.0)\n",
      "Requirement already satisfied: requests<3,>=2.27 in c:\\users\\thais\\anaconda3\\envs\\entorn_ml\\lib\\site-packages (from streamlit) (2.32.3)\n",
      "Requirement already satisfied: rich<14,>=10.14.0 in c:\\users\\thais\\anaconda3\\envs\\entorn_ml\\lib\\site-packages (from streamlit) (13.7.1)\n",
      "Requirement already satisfied: tenacity<10,>=8.1.0 in c:\\users\\thais\\anaconda3\\envs\\entorn_ml\\lib\\site-packages (from streamlit) (8.2.3)\n",
      "Requirement already satisfied: toml<2,>=0.10.1 in c:\\users\\thais\\anaconda3\\envs\\entorn_ml\\lib\\site-packages (from streamlit) (0.10.2)\n",
      "Requirement already satisfied: typing-extensions<5,>=4.3.0 in c:\\users\\thais\\anaconda3\\envs\\entorn_ml\\lib\\site-packages (from streamlit) (4.11.0)\n",
      "Requirement already satisfied: gitpython!=3.1.19,<4,>=3.0.7 in c:\\users\\thais\\anaconda3\\envs\\entorn_ml\\lib\\site-packages (from streamlit) (3.1.43)\n",
      "Requirement already satisfied: pydeck<1,>=0.8.0b4 in c:\\users\\thais\\anaconda3\\envs\\entorn_ml\\lib\\site-packages (from streamlit) (0.8.0)\n",
      "Requirement already satisfied: tornado<7,>=6.0.3 in c:\\users\\thais\\anaconda3\\envs\\entorn_ml\\lib\\site-packages (from streamlit) (6.4.1)\n",
      "Requirement already satisfied: watchdog<6,>=2.1.5 in c:\\users\\thais\\anaconda3\\envs\\entorn_ml\\lib\\site-packages (from streamlit) (4.0.1)\n",
      "Requirement already satisfied: jinja2 in c:\\users\\thais\\anaconda3\\envs\\entorn_ml\\lib\\site-packages (from altair<6,>=4.0->streamlit) (3.1.4)\n",
      "Requirement already satisfied: jsonschema>=3.0 in c:\\users\\thais\\anaconda3\\envs\\entorn_ml\\lib\\site-packages (from altair<6,>=4.0->streamlit) (4.19.2)\n",
      "Requirement already satisfied: toolz in c:\\users\\thais\\anaconda3\\envs\\entorn_ml\\lib\\site-packages (from altair<6,>=4.0->streamlit) (0.12.0)\n",
      "Requirement already satisfied: colorama in c:\\users\\thais\\anaconda3\\envs\\entorn_ml\\lib\\site-packages (from click<9,>=7.0->streamlit) (0.4.6)\n",
      "Requirement already satisfied: gitdb<5,>=4.0.1 in c:\\users\\thais\\anaconda3\\envs\\entorn_ml\\lib\\site-packages (from gitpython!=3.1.19,<4,>=3.0.7->streamlit) (4.0.7)\n",
      "Requirement already satisfied: python-dateutil>=2.8.2 in c:\\users\\thais\\anaconda3\\envs\\entorn_ml\\lib\\site-packages (from pandas<3,>=1.4.0->streamlit) (2.9.0.post0)\n",
      "Requirement already satisfied: pytz>=2020.1 in c:\\users\\thais\\anaconda3\\envs\\entorn_ml\\lib\\site-packages (from pandas<3,>=1.4.0->streamlit) (2024.1)\n",
      "Requirement already satisfied: tzdata>=2022.7 in c:\\users\\thais\\anaconda3\\envs\\entorn_ml\\lib\\site-packages (from pandas<3,>=1.4.0->streamlit) (2023.3)\n",
      "Requirement already satisfied: charset-normalizer<4,>=2 in c:\\users\\thais\\anaconda3\\envs\\entorn_ml\\lib\\site-packages (from requests<3,>=2.27->streamlit) (3.3.2)\n",
      "Requirement already satisfied: idna<4,>=2.5 in c:\\users\\thais\\anaconda3\\envs\\entorn_ml\\lib\\site-packages (from requests<3,>=2.27->streamlit) (3.7)\n",
      "Requirement already satisfied: urllib3<3,>=1.21.1 in c:\\users\\thais\\anaconda3\\envs\\entorn_ml\\lib\\site-packages (from requests<3,>=2.27->streamlit) (2.2.2)\n",
      "Requirement already satisfied: certifi>=2017.4.17 in c:\\users\\thais\\anaconda3\\envs\\entorn_ml\\lib\\site-packages (from requests<3,>=2.27->streamlit) (2024.8.30)\n",
      "Requirement already satisfied: markdown-it-py>=2.2.0 in c:\\users\\thais\\anaconda3\\envs\\entorn_ml\\lib\\site-packages (from rich<14,>=10.14.0->streamlit) (2.2.0)\n",
      "Requirement already satisfied: pygments<3.0.0,>=2.13.0 in c:\\users\\thais\\anaconda3\\envs\\entorn_ml\\lib\\site-packages (from rich<14,>=10.14.0->streamlit) (2.15.1)\n",
      "Requirement already satisfied: smmap<5,>=3.0.1 in c:\\users\\thais\\anaconda3\\envs\\entorn_ml\\lib\\site-packages (from gitdb<5,>=4.0.1->gitpython!=3.1.19,<4,>=3.0.7->streamlit) (4.0.0)\n",
      "Requirement already satisfied: MarkupSafe>=2.0 in c:\\users\\thais\\anaconda3\\envs\\entorn_ml\\lib\\site-packages (from jinja2->altair<6,>=4.0->streamlit) (2.1.3)\n",
      "Requirement already satisfied: attrs>=22.2.0 in c:\\users\\thais\\anaconda3\\envs\\entorn_ml\\lib\\site-packages (from jsonschema>=3.0->altair<6,>=4.0->streamlit) (23.1.0)\n",
      "Requirement already satisfied: jsonschema-specifications>=2023.03.6 in c:\\users\\thais\\anaconda3\\envs\\entorn_ml\\lib\\site-packages (from jsonschema>=3.0->altair<6,>=4.0->streamlit) (2023.7.1)\n",
      "Requirement already satisfied: referencing>=0.28.4 in c:\\users\\thais\\anaconda3\\envs\\entorn_ml\\lib\\site-packages (from jsonschema>=3.0->altair<6,>=4.0->streamlit) (0.30.2)\n",
      "Requirement already satisfied: rpds-py>=0.7.1 in c:\\users\\thais\\anaconda3\\envs\\entorn_ml\\lib\\site-packages (from jsonschema>=3.0->altair<6,>=4.0->streamlit) (0.10.6)\n",
      "Requirement already satisfied: mdurl~=0.1 in c:\\users\\thais\\anaconda3\\envs\\entorn_ml\\lib\\site-packages (from markdown-it-py>=2.2.0->rich<14,>=10.14.0->streamlit) (0.1.0)\n",
      "Requirement already satisfied: six>=1.5 in c:\\users\\thais\\anaconda3\\envs\\entorn_ml\\lib\\site-packages (from python-dateutil>=2.8.2->pandas<3,>=1.4.0->streamlit) (1.16.0)\n"
     ]
    }
   ],
   "source": [
    "pip install --upgrade streamlit\n"
   ]
  },
  {
   "cell_type": "code",
   "execution_count": 7,
   "id": "30de380c-f955-4bc4-b0ba-022118852687",
   "metadata": {},
   "outputs": [
    {
     "name": "stdout",
     "output_type": "stream",
     "text": [
      "pip 24.2 from C:\\Users\\thais\\anaconda3\\envs\\entorn_ML\\Lib\\site-packages\\pip (python 3.12)\n",
      "\n",
      "Note: you may need to restart the kernel to use updated packages.\n"
     ]
    }
   ],
   "source": [
    "pip --version\n"
   ]
  },
  {
   "cell_type": "code",
   "execution_count": 9,
   "id": "0602beee-381c-4c80-b54d-f575b559b3c8",
   "metadata": {},
   "outputs": [
    {
     "name": "stdout",
     "output_type": "stream",
     "text": [
      "Archivo requirements.txt creado exitosamente.\n",
      "Streamlit instalado exitosamente.\n",
      "La aplicación Streamlit se está ejecutando.\n"
     ]
    }
   ],
   "source": [
    "# Importar bibliotecas necesarias\n",
    "import os\n",
    "import subprocess\n",
    "\n",
    "# Crear el archivo requirements.txt\n",
    "requirements_content = '''\n",
    "pandas\n",
    "numpy\n",
    "scikit-learn\n",
    "streamlit\n",
    "xgboost\n",
    "'''\n",
    "\n",
    "# Guardar el archivo requirements.txt en el directorio actual\n",
    "with open('requirements.txt', 'w') as f:\n",
    "    f.write(requirements_content.strip())\n",
    "\n",
    "print(\"Archivo requirements.txt creado exitosamente.\")\n",
    "\n",
    "# Instalar Streamlit en el entorno actual\n",
    "try:\n",
    "    subprocess.check_call(['pip', 'install', 'streamlit'])\n",
    "    print(\"Streamlit instalado exitosamente.\")\n",
    "except Exception as e:\n",
    "    print(f\"Error al instalar Streamlit: {e}\")\n",
    "\n",
    "# Ejecutar la aplicación Streamlit\n",
    "try:\n",
    "    # Este comando ejecutará la app.py en el entorno actual\n",
    "    subprocess.Popen(['streamlit', 'run', 'app.py'])\n",
    "    print(\"La aplicación Streamlit se está ejecutando.\")\n",
    "except Exception as e:\n",
    "    print(f\"Error al ejecutar la aplicación: {e}\")\n"
   ]
  },
  {
   "cell_type": "code",
   "execution_count": null,
   "id": "283f241f-045f-4519-ad5f-81860bdf9b94",
   "metadata": {},
   "outputs": [],
   "source": []
  }
 ],
 "metadata": {
  "kernelspec": {
   "display_name": "Python 3 (ipykernel)",
   "language": "python",
   "name": "python3"
  },
  "language_info": {
   "codemirror_mode": {
    "name": "ipython",
    "version": 3
   },
   "file_extension": ".py",
   "mimetype": "text/x-python",
   "name": "python",
   "nbconvert_exporter": "python",
   "pygments_lexer": "ipython3",
   "version": "3.12.5"
  }
 },
 "nbformat": 4,
 "nbformat_minor": 5
}
