{
 "cells": [
  {
   "cell_type": "markdown",
   "id": "7325d317-6946-4425-8853-a8cd00fd0c4a",
   "metadata": {},
   "source": [
    "## Conclusions Finals ##"
   ]
  },
  {
   "cell_type": "markdown",
   "id": "68b88fbf-dc9e-4b99-b297-e46e73b646ef",
   "metadata": {},
   "source": [
    "En les etapes anteriors, ja vaig entrenar els models i definit el que utilitzaré pel meu projecte bancari.  \n",
    "També vaig interpretar els resultats finals.  Així que només detallaré les conclusions finals sobre el model escollit i l'estratègia de marketing per obtenir més dipòsits."
   ]
  },
  {
   "cell_type": "markdown",
   "id": "4392a884-1b99-44a4-991e-8173c54314cf",
   "metadata": {},
   "source": [
    "Conclusions per EL MODEL DE PREDICCIÓ:  \n",
    "\n",
    "Hem arribat a crear un bon model predictiu, que prediu amb molta precisió els clients que tenen possibilitats de subscriure un dipòsit bancari.   \n",
    "Una bona campanya de màrketing aconseguint que el client escolti i s'allargui la durada de la trucada és la base de l'èxit.  \n",
    "També el fet de contactar-lo recentment.  \n",
    "\n",
    "Conclusions per als Objectius del Negoci:  \n",
    "\n",
    "Aquestes correlacions poden ser molt útils per dissenyar les estratègies de màrqueting:  \n",
    "\n",
    "Focalització en trucades més llargues:  \n",
    "Com que la durada té una forta correlació amb la contractació, el banc pot valorar les interaccions de qualitat amb els clients, fomentant converses més detallades per ajudar a convèncer els clients.  \n",
    "Optimització de Seguiments:  \n",
    "Donat que els contactes previs mostren una correlació positiva, una estratègia de seguiment eficient (ni massa freqüent ni massa esporàdica) pot ser efectiva.  \n",
    "Segmentació de clients amb menys compromisos financers:  \n",
    "Pot ser més rendible dirigir la campanya cap a clients sense hipoteques o altres préstecs, ja que aquests tendeixen a tenir una probabilitat més alta de contractar un dipòsit.  \n"
   ]
  }
 ],
 "metadata": {
  "kernelspec": {
   "display_name": "Python 3 (ipykernel)",
   "language": "python",
   "name": "python3"
  },
  "language_info": {
   "codemirror_mode": {
    "name": "ipython",
    "version": 3
   },
   "file_extension": ".py",
   "mimetype": "text/x-python",
   "name": "python",
   "nbconvert_exporter": "python",
   "pygments_lexer": "ipython3",
   "version": "3.12.5"
  }
 },
 "nbformat": 4,
 "nbformat_minor": 5
}
