{
 "cells": [
  {
   "cell_type": "code",
   "execution_count": null,
   "id": "902add10-861a-4055-a0cf-e4d7439cf67f",
   "metadata": {},
   "outputs": [],
   "source": []
  }
 ],
 "metadata": {
  "kernelspec": {
   "display_name": "",
   "name": ""
  },
  "language_info": {
   "name": ""
  }
 },
 "nbformat": 4,
 "nbformat_minor": 5
}
